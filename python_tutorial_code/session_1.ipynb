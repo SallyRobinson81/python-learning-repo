{
 "cells": [
  {
   "cell_type": "code",
   "execution_count": 18,
   "id": "89b6333e",
   "metadata": {},
   "outputs": [
    {
     "data": {
      "text/plain": [
       "'Hi, m'"
      ]
     },
     "execution_count": 18,
     "metadata": {},
     "output_type": "execute_result"
    }
   ],
   "source": [
    "num_1 = 5.0\n",
    "num_2 = 10\n",
    "answer = num_1 / num_2\n",
    "var_1 = \"Hello\"\n",
    "answer_str = float(answer)\n",
    "# int, interger\n",
    "# str, string\n",
    "#float is a number with a decimal\n",
    "type(num_1)\n",
    "\n",
    "Pi = 3.14\n",
    "radius = 2\n",
    "area = Pi * radius**2\n",
    "area\n",
    "\n",
    "name = \"Sally\"\n",
    "Job = \"Performance Technician\"\n",
    "Job_name = f\"Hi, my name is {name} and I am a {Job}.\"\n",
    "phrase = Job_name\n",
    "\n",
    "#iterable\n",
    "# means you can iterate over, ie you can access each character, row of a table etc\n",
    "# counting in python starts at 0\n",
    "# [start:stop] or [start:stop:step]\n",
    "#to start from the right use a minus\n",
    "phrase [0:5]"
   ]
  }
 ],
 "metadata": {
  "kernelspec": {
   "display_name": "Python 3",
   "language": "python",
   "name": "python3"
  },
  "language_info": {
   "codemirror_mode": {
    "name": "ipython",
    "version": 3
   },
   "file_extension": ".py",
   "mimetype": "text/x-python",
   "name": "python",
   "nbconvert_exporter": "python",
   "pygments_lexer": "ipython3",
   "version": "3.12.1"
  }
 },
 "nbformat": 4,
 "nbformat_minor": 5
}
