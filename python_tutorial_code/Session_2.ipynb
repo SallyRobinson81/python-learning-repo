{
 "cells": [
  {
   "cell_type": "code",
   "execution_count": 320,
   "id": "11f31825",
   "metadata": {},
   "outputs": [
    {
     "data": {
      "text/plain": [
       "'Variable three  is ten'"
      ]
     },
     "execution_count": 320,
     "metadata": {},
     "output_type": "execute_result"
    }
   ],
   "source": [
    "var_1 = 10\n",
    "Var_2 = 5.00\n",
    "Var_3 = \"ten\"\n",
    "\n",
    "long_string = f\"Variable three  is {Var_3}\"\n",
    "long_string"
   ]
  },
  {
   "cell_type": "code",
   "execution_count": 321,
   "id": "8189e5ba",
   "metadata": {},
   "outputs": [
    {
     "data": {
      "text/plain": [
       "'Piccalilli'"
      ]
     },
     "execution_count": 321,
     "metadata": {},
     "output_type": "execute_result"
    }
   ],
   "source": [
    "#lists- things like lists of ethnicity codes etc, in square brackets\n",
    "#allows us to clean up tables\n",
    "\n",
    "#dictionaries\n",
    "\n",
    "List_1 = []\n",
    "type(List_1)\n",
    "\n",
    "cols_1 = [\"Red\", \"Blue\", [\"Green\", \"Purple\", \"Black\"]]\n",
    "cols_1[1]\n",
    "List_3 = [5.0, 7, \"Sally\",[\"Cheddar\", \"Scrumpy\", \"Piccalilli\"]]\n",
    "\n",
    "List_3[-1][-1]\n",
    "\n",
    "#methods\n",
    "# .append(), .extend(), .remove()"
   ]
  },
  {
   "cell_type": "code",
   "execution_count": null,
   "id": "74b80fae",
   "metadata": {},
   "outputs": [],
   "source": []
  },
  {
   "cell_type": "markdown",
   "id": "56431caa",
   "metadata": {},
   "source": []
  },
  {
   "cell_type": "code",
   "execution_count": 322,
   "id": "b08dd3d0",
   "metadata": {},
   "outputs": [
    {
     "data": {
      "text/plain": [
       "[5.0,\n",
       " 7,\n",
       " ['Cheddar', 'Scrumpy', 'Piccalilli'],\n",
       " 'brown',\n",
       " 'Red',\n",
       " 'Blue',\n",
       " 'Green',\n",
       " 'Purple',\n",
       " 'Black']"
      ]
     },
     "execution_count": 322,
     "metadata": {},
     "output_type": "execute_result"
    }
   ],
   "source": [
    "\n",
    "\n",
    "cols_1 = [\"Red\", \"Blue\", \"Green\", \"Purple\", \"Black\"]\n",
    "cols_1[1]\n",
    "List_3 = [5.0, 7, \"Sally\",[\"Cheddar\", \"Scrumpy\", \"Piccalilli\"]]\n",
    "\n",
    "List_3[-1][-1]\n",
    "\n",
    "List_3.append(\"brown\")\n",
    "List_3\n",
    "List_3.extend(cols_1)\n",
    "List_3\n",
    "List_3.remove(\"Sally\")\n",
    "List_3\n",
    "\n",
    "#methods\n",
    "# .append(), .extend(), .remove()"
   ]
  },
  {
   "cell_type": "code",
   "execution_count": 323,
   "id": "9cd3e37e",
   "metadata": {},
   "outputs": [
    {
     "data": {
      "text/plain": [
       "['Cheese',\n",
       " 'Pizza',\n",
       " 'Chips',\n",
       " 'Apple',\n",
       " 'Bread',\n",
       " 'Egg',\n",
       " 'Beans',\n",
       " 'Peas',\n",
       " 'Pineapple']"
      ]
     },
     "execution_count": 323,
     "metadata": {},
     "output_type": "execute_result"
    }
   ],
   "source": [
    "Food_1 = [\"Cheese\", \"Pizza\", \"Chips\", \"Apple\", \"Bread\", \"Egg\"]\n",
    "Food_1\n",
    "Food_1.append(\"Beans\")\n",
    "Food_1\n",
    "Food_2 = [\"Peas\", \"Carrots\", \"Pineapple\"]\n",
    "Food_1.extend(Food_2)\n",
    "Food_1\n",
    "Food_1.remove(\"Carrots\")\n",
    "Food_1"
   ]
  },
  {
   "cell_type": "code",
   "execution_count": 324,
   "id": "bab403e5",
   "metadata": {},
   "outputs": [
    {
     "data": {
      "text/plain": [
       "[3, 27, 45, 67, 89]"
      ]
     },
     "execution_count": 324,
     "metadata": {},
     "output_type": "execute_result"
    }
   ],
   "source": [
    "Nums_1 =[45, 67, 89, 3, 27]\n",
    "Nums_1.sort()\n",
    "Nums_1"
   ]
  },
  {
   "cell_type": "code",
   "execution_count": 325,
   "id": "1c96197c",
   "metadata": {},
   "outputs": [
    {
     "data": {
      "text/plain": [
       "[('Will', 'black'),\n",
       " ('Clare', 'yellow'),\n",
       " ('Marcel', {'Monday': ['blue', 'yellow'], 'RoW': 'Grey'})]"
      ]
     },
     "execution_count": 325,
     "metadata": {},
     "output_type": "execute_result"
    }
   ],
   "source": [
    "#dictionaries, in curly brackets\n",
    "# Sally, Jack and Olivia below are the keys\n",
    "fave_colours = {\"Sally\":\"Green\", \n",
    "                \"Jack\":\"Blue\", \n",
    "                \"Olivia\":[\"Purple\", \"Yellow\"]}\n",
    "fave_colours[\"Sally\"] #accessing list by key\n",
    "\n",
    " \n",
    " # key : value\n",
    "# keys MUSt be immuatable not mutatable -> keys must be either a string or a number\n",
    "fav_colours = {\"Will\":\"black\", \n",
    "               \"Clare\":\"yellow\",\n",
    "               \"Marcel\":{\"Monday\":[\"blue\", \"yellow\"],\n",
    "                         \"RoW\":\"Grey\"}}\n",
    "# type(fav_colours)\n",
    "fav_colours[\"Will\"] # accessing dicitonaries by key\n",
    "fav_colours[\"Marcel\"][\"Monday\"][0] # accessing nested elements\n",
    "list(fav_colours.keys())\n",
    "list(fav_colours.values())\n",
    "list(fav_colours.items()) # returns tuples\n",
    "# make a dictionary of restaurants with keys being the name and values being the foods,\n",
    "# make sure at least one value is a list of foods, and another is a dicitonary of days and foods\n",
    "# use the keys, vlaues, and items methods to views those\n",
    " "
   ]
  },
  {
   "cell_type": "code",
   "execution_count": 326,
   "id": "7ba7b85d",
   "metadata": {},
   "outputs": [
    {
     "name": "stdout",
     "output_type": "stream",
     "text": [
      "dict_keys([\"Sal's Cafe\", \"Esther's Eatery\", 'Cafe gelato'])\n",
      "dict_values([['Pizza', 'Chips'], ['Snails', 'Burgers'], {'Monday': ['Sundae', 'Cone'], 'Tues-Fri': ['Nothing', 'Water']}])\n",
      "dict_items([(\"Sal's Cafe\", ['Pizza', 'Chips']), (\"Esther's Eatery\", ['Snails', 'Burgers']), ('Cafe gelato', {'Monday': ['Sundae', 'Cone'], 'Tues-Fri': ['Nothing', 'Water']})])\n"
     ]
    }
   ],
   "source": [
    "Restaurants = {\"Sal's Cafe\": [\"Pizza\", \"Chips\"], \"Esther's Eatery\": [\"Snails\", \"Burgers\"], \n",
    "               \"Cafe gelato\":{\"Monday\": [\"Sundae\", \"Cone\"], \"Tues-Fri\": [\"Nothing\", \"Water\"]}}\n",
    "Restaurants\n",
    "\n",
    "print(Restaurants.keys())\n",
    "print(Restaurants.values())\n",
    "print(Restaurants.items())"
   ]
  },
  {
   "cell_type": "code",
   "execution_count": 327,
   "id": "47fef85a",
   "metadata": {},
   "outputs": [
    {
     "name": "stdout",
     "output_type": "stream",
     "text": [
      "True\n",
      "{'Sals Cafe': ['Pizza', 'Chips'], 'Esthers Eatery': ['Snails', 'Burgers'], 'Cafe gelato': {'Monday': ['Sundae', 'Cone'], 'Tues-Fri': ['Nothing', 'Water']}, 'Grubs Up': ['Drinks', 'More Drink']}\n"
     ]
    }
   ],
   "source": [
    "Restaurants = {\"Sals Cafe\": [\"Pizza\", \"Chips\"], \"Esthers Eatery\": [\"Snails\", \"Burgers\"], \n",
    "               \"Cafe gelato\":{\"Monday\": [\"Sundae\", \"Cone\"], \"Tues-Fri\": [\"Nothing\", \"Water\"]}}\n",
    "Restaurants[\"Esthers Eatery\"]\n",
    "Restaurants [\"Grubs Up\"] = [\"Drinks\", \"More Drink\"]\n",
    "print(\"Sals Cafe\" in Restaurants)\n",
    "print(Restaurants)\n",
    "\n",
    "\n",
    "\n",
    "\n",
    "\n"
   ]
  }
 ],
 "metadata": {
  "kernelspec": {
   "display_name": "Python 3",
   "language": "python",
   "name": "python3"
  },
  "language_info": {
   "codemirror_mode": {
    "name": "ipython",
    "version": 3
   },
   "file_extension": ".py",
   "mimetype": "text/x-python",
   "name": "python",
   "nbconvert_exporter": "python",
   "pygments_lexer": "ipython3",
   "version": "3.12.1"
  }
 },
 "nbformat": 4,
 "nbformat_minor": 5
}
